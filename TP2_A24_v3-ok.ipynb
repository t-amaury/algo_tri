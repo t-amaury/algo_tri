{
  "cells": [
    {
      "cell_type": "markdown",
      "metadata": {
        "id": "aQ9Q_KsyLM-v"
      },
      "source": [
        "# INF8775 – Analyse et conception d’algorithmes\n",
        "# TP2 – Automne 2024"
      ]
    },
    {
      "cell_type": "markdown",
      "metadata": {
        "id": "5aK0HIGKLM-w"
      },
      "source": [
        "NOM, Prénom, 1234567\n",
        "\n",
        "NOM, Prénom, 1234567"
      ]
    },
    {
      "cell_type": "markdown",
      "metadata": {
        "id": "yjyM8agpLM-x"
      },
      "source": [
        "Note finale :"
      ]
    },
    {
      "cell_type": "markdown",
      "metadata": {
        "id": "BpQ7HYqCLM-x"
      },
      "source": [
        " <u>**Date limite de remise :**</u>  12 novembre 23h59 (Groupe B1), 5 novembre 23h59 (Groupe B2)"
      ]
    },
    {
      "cell_type": "markdown",
      "metadata": {
        "id": "Kc0Iyv4fLM-y"
      },
      "source": [
        "# Instructions\n",
        "\n",
        "## Rédaction et remise du rapport\n",
        "\n",
        "- Ce notebook constitue à la fois le sujet du TP, votre code et votre rapport. Il contient déjà du code pour faciliter vos mesures et l'affichage de vos résultats, ainsi qu'un squelette pour votre rapport.\n",
        "\n",
        "- Complétez directement le notebook, vous êtes libres de créer de nouvelles cellules de code ou de texte.\n",
        "\n",
        "- Remettez le fichier du notebook sur Moodle avec le nom `NOM1_MATRICULE1_NOM2_MATRICULE2.ipynb`\n",
        "\n",
        "- Vous pouvez vous inspirer de code trouvé sur Internet, tant que vous en mentionnez la source, mais vous devez créer votre propre implémentation, sous peine d'être sanctionnés pour plagiat.\n",
        "\n",
        "## Mise en situation\n",
        "\n",
        "Ce travail pratique se répartit sur deux séances de laboratoire et porte sur l'analyse et la conception d'algorithmes développés suivant différents patrons de conception afin de résoudre une version simplifiée d'un problème réaliste d'optimisation.\n",
        "\n",
        "\n",
        "## Description du problème\n",
        "\n",
        "Dans ce TP, vous allez travailler sur le problème de partition. De manière générale, celui-ci consiste à séparer un ensemble de poids en k ensembles de poids total identique. Dans ce cas-ci, on cherche, à partir d'une liste de valeurs, à obtenir deux listes dont la somme des valeurs est la même.\n",
        "\n",
        "Par exemple :\n",
        "- L'exemplaire est : `[6,3,5,2]`\n",
        "- La seule solution est : `[6,2][5,3]`\n",
        "\n",
        "\n"
      ]
    },
    {
      "cell_type": "markdown",
      "metadata": {
        "id": "DRjrEuzKLM-z"
      },
      "source": [
        "## Algorithmes à implanter\n",
        "\n",
        "Trois algorithmes seront implantés, mettant en pratique des patrons de conception différents :\n",
        "\n",
        "1. Un algorithme glouton\n",
        "2. Un algorithme de programmation dynamique\n",
        "3. Un algorithme d'amélioration locale"
      ]
    },
    {
      "cell_type": "markdown",
      "metadata": {
        "id": "HFZmJrUtLM-z"
      },
      "source": [
        "\n",
        "## Jeu de données\n",
        "\n",
        "La classe Problem existe pour simplifier l'interface des différentes fonctions utilitaires. Elle permet de générer des jeux de données avec la méthode `generate_sample` ci-dessous. Elle génère une liste d'une taille donnée contenant des nombres dont la somme est équivalente au total spécifié. Toutes les exemplaires devraient pouvoir être partionner, tant que la somme que vous donnez est pair."
      ]
    },
    {
      "cell_type": "code",
      "execution_count": 1,
      "metadata": {
        "id": "My2c5uzELM-2"
      },
      "outputs": [],
      "source": [
        "import random\n",
        "from collections.abc import Iterable, Callable\n",
        "\n",
        "\n",
        "def simple(size: int, total: int) -> list[int]:\n",
        "    \"\"\"Samples generated using a uniform distribution capped at the average value.\n",
        "    Simplest sample to solve\"\"\"\n",
        "    instance = []\n",
        "    current_total = 0\n",
        "\n",
        "    for i in range(size - 1):\n",
        "        max_val = round((total - current_total) / (size - i))\n",
        "        value = random.randint(1, max_val)\n",
        "        current_total += value\n",
        "        instance.append(value)\n",
        "\n",
        "    instance.append(int(total - current_total))\n",
        "    return instance\n",
        "\n",
        "\n",
        "def uniform(size: int, total: int) -> list[int]:\n",
        "    \"\"\"Samples generated using a uniform distribution around the average value\"\"\"\n",
        "    instance = []\n",
        "    current_total = 0\n",
        "\n",
        "    for i in range(size - 1):\n",
        "        avg_val = round((total - current_total) / (size - i))\n",
        "        value = random.randint(round(avg_val*0.5), round(avg_val*1.5))\n",
        "        current_total += value\n",
        "        instance.append(value)\n",
        "        \n",
        "    instance.append(int(total - current_total))\n",
        "    return instance\n",
        "\n",
        "\n",
        "def normal(size: int, total: int) -> list[int]:\n",
        "    \"\"\"Samples generated using a normal distribution\"\"\"\n",
        "    instance = []\n",
        "    current_total = 0\n",
        "\n",
        "    for i in range(size - 1):\n",
        "        avg_val = round((total - current_total) / (size - i))\n",
        "        value = round(random.normalvariate(avg_val,0.3*avg_val))\n",
        "        current_total += value\n",
        "        instance.append(value)\n",
        "        \n",
        "    instance.append(int(total - current_total))\n",
        "    return instance\n",
        "\n",
        "\n",
        "class Problem():\n",
        "    def __init__(\n",
        "        self,\n",
        "        size: int, \n",
        "        total: int, \n",
        "        num_samples: int = 5, \n",
        "        gen_algo: Callable[[int,int],list[int]] = simple\n",
        "    ) -> None:\n",
        "        self.num_samples: int = num_samples\n",
        "        self.size: int = size\n",
        "        self.total: int = total\n",
        "        self.gen_algo = gen_algo\n",
        "\n",
        "    def generate_sample(self) -> list[int]:\n",
        "        \"\"\"Returns a list of the given size containing numbers between 1 and the max_number\"\"\"\n",
        "        left_size = random.randint(2,self.size-1)\n",
        "        instance = self.gen_algo(left_size,self.total/2)\n",
        "        instance.extend(self.gen_algo(self.size - left_size,self.total/2))\n",
        "        random.shuffle(instance)\n",
        "        return instance\n",
        "\n",
        "    def generate_dataset(self) -> Iterable[list[int]]:\n",
        "        \"\"\"Returns an iterator over as many samples as are described \"\"\"\n",
        "        return (self.generate_sample() for _ in range(self.num_samples))"
      ]
    },
    {
      "cell_type": "markdown",
      "metadata": {
        "id": "glYqxyfSLM-3"
      },
      "source": [
        "# Implantations et expérimentations"
      ]
    },
    {
      "cell_type": "markdown",
      "metadata": {
        "id": "-SCkyf73LM-3"
      },
      "source": [
        "Ces fonctions auxiliaires vous sont fournies pour vérifier l'exactitude de vos algorithmes, mesurer leur performance et afficher vos résultats.\n",
        "\n",
        "Il est recommandé de prendre le temps de lire et de comprendre le code.\n",
        "\n",
        "Exécutez la cellule ci-dessous pour pouvoir utiliser les fonctions auxiliaires."
      ]
    },
    {
      "cell_type": "code",
      "execution_count": 2,
      "metadata": {
        "id": "AGmcsnGELM-3"
      },
      "outputs": [],
      "source": [
        "import matplotlib.pyplot as plt\n",
        "import time\n",
        "from scipy.stats import linregress\n",
        "\n",
        "\n",
        "class InvalidSolution(Exception):\n",
        "    def __init__(self):\n",
        "        super().__init__(\"Invalid solution, verify your code.\")\n",
        "\n",
        "\n",
        "class Measure():\n",
        "    \"\"\"A wrapper to contain information on taken measures. mae is Mean Absolute Error\"\"\"\n",
        "    def __init__(self, size: int, total: int, mean_time: float, correct_frac:float, mae:float) -> None:\n",
        "        \"\"\"Args:\n",
        "            mae (float): Mean Absolute Error\n",
        "        \"\"\"\n",
        "        self.size = size\n",
        "        self.total = total\n",
        "        self.mean_time = mean_time\n",
        "        self.correct_frac = correct_frac\n",
        "        self.mae = mae\n",
        "\n",
        "\n",
        "def make_problems(\n",
        "    sizes: list[int],\n",
        "    totals: list[int],\n",
        "    num_samples: int = 5,\n",
        "    gen_algo: Callable[[int,int],list[int]] = simple\n",
        ") -> list[Problem]:\n",
        "    \"\"\"Creates problem instances using given sizes and total value\"\"\"\n",
        "    problems: list[Problem] = []\n",
        "    for size in sizes:\n",
        "        for total in totals:\n",
        "            problems.append(Problem(size,total,num_samples,gen_algo))\n",
        "    return problems\n",
        "\n",
        "\n",
        "def get_absolute_error(solution: list[list[int]]) -> int:\n",
        "    \"\"\"Check if solution is well partitioned \"\"\"\n",
        "    target = (sum(solution[0]) + sum(solution[1])) / 2\n",
        "    return abs(sum(solution[0]) - target)\n",
        "\n",
        "\n",
        "def get_list_freq(original: list[int]) -> dict[int,int]:\n",
        "    \"\"\"Converts a list into a dictionary of frequencies\"\"\"\n",
        "    freq: dict[int,int] = dict()\n",
        "    for iter in original:\n",
        "        if iter not in freq.keys():\n",
        "            freq[iter] = 0\n",
        "        freq[iter] += 1\n",
        "    return freq\n",
        "\n",
        "\n",
        "def verify_solution_format(original: list[int], solution: list[list[int]]) -> bool:\n",
        "    \"\"\"Validates if the solution format is correct. This does not guarantee a solution\n",
        "    with 0 error\"\"\"\n",
        "    if len(solution) != 2:\n",
        "        return False\n",
        "\n",
        "    solution = [value for partition in solution for value in partition]\n",
        "\n",
        "    # Lists must be of equal length\n",
        "    if len(solution) != len(original):\n",
        "        return False\n",
        "\n",
        "    original_freq = get_list_freq(original)\n",
        "    solution_freq = get_list_freq(solution)\n",
        "    # Lists must have the same values\n",
        "    for key in original_freq.keys():\n",
        "        if key not in solution_freq.keys() or\\\n",
        "            solution_freq[key] != original_freq[key]:\n",
        "            return False\n",
        "\n",
        "    # Solution is valid\n",
        "    return True\n",
        "\n",
        "\n",
        "def measure(\n",
        "    procedure: Callable[[list[int]],list[list[int]]],\n",
        "    sample: list[int],\n",
        "    time_scale: int = 1000\n",
        ") -> tuple[int,int]:\n",
        "    \"\"\"Returns the time in milliseconds taken to run the procedure as well as the absolute error in a tuple.\n",
        "\n",
        "    Raises:\n",
        "        InvalidSolution: If the procedure returns an invalid solution, raises an exception.\n",
        "    \"\"\"\n",
        "    sample = sample.copy()\n",
        "    start: int = time.time() * time_scale\n",
        "    solution: list[list[int]] = procedure(sample)\n",
        "    end: int = time.time() * time_scale\n",
        "    if not verify_solution_format(sample, solution):\n",
        "        raise InvalidSolution()\n",
        "    return (round(end - start), get_absolute_error(solution))\n",
        "\n",
        "\n",
        "def measure_mean(procedure: Callable[[list[int]],list[list[int]]], prob: Problem, time_scale: int = 1000) -> Measure:\n",
        "    \"\"\"Generates multiple samples with the specified parameters and returns the mean time in milliseconds\n",
        "\n",
        "    Raises:\n",
        "        InvalidSolution: If one of the samples results in an invalid solution.\n",
        "    \"\"\"\n",
        "    measures = [measure(procedure,sample,time_scale) for sample in prob.generate_dataset()]\n",
        "    mean_time = sum(iter[0] for iter in measures) / prob.num_samples\n",
        "    n = len(measures)\n",
        "    n_correct = len([iter for iter in measures if iter[1] == 0])\n",
        "    correct_frac = n_correct / n\n",
        "    mae = 0\n",
        "    if n_correct != n:\n",
        "        mae = sum(iter[1] for iter in measures) / (n - n_correct)\n",
        "    return Measure(prob.size, prob.total, mean_time, correct_frac, mae)\n",
        "\n",
        "\n",
        "def measure_range(procedure: Callable[[list[int]],list[list[int]]], problems: list[Problem], time_scale: int = 1000) -> list[Measure]:\n",
        "    \"\"\"Measures the mean time taken in milliseconds for each size in the given list.\n",
        "\n",
        "    Raises:\n",
        "        InvalidSolution: If one of the samples results in an invalid solution.\n",
        "\n",
        "    Returns:\n",
        "        A list of Measure instances containing the specifications\n",
        "        of the problem as well as the mean time.\n",
        "    \"\"\"\n",
        "    return [\n",
        "        measure_mean(procedure, prob, time_scale)\n",
        "        for prob in problems\n",
        "    ]\n",
        "\n",
        "\n",
        "def display_data_as_table(measures: list[Measure]):\n",
        "    \"\"\"Prints a table with the data in the given list of measures\"\"\"\n",
        "    print(\"{: <20} {: <20} {: <20} {: <20} {: <20}\".format(\"Taille\",\"Somme\",\"Temps moyen (ms)\", \"Taux de succès\", \"Erreur absolue moyenne\"))\n",
        "    for measure in measures:\n",
        "        print(\"{: <20} {: <20} {: <20} {: <20} {: <20}\".format(measure.size, measure.total, measure.mean_time, measure.correct_frac, round(measure.mae, 3)))\n",
        "\n",
        "\n",
        "### The different tests are below, the names are in french to avoid confusion\n",
        "\n",
        "\n",
        "def test_de_puissance(\n",
        "    data: dict[int,int],\n",
        "    x_label: str,\n",
        "    y_label: str,\n",
        "    title: str = \"Test de puissance\"\n",
        "):\n",
        "    \"\"\"Takes the data and displays it into the corresponding test graph.\n",
        "    It applies no transformations to the data.\n",
        "\n",
        "    Args:\n",
        "        data (dict[int,int]): A dictionnary mapping the x variable to the y variable\n",
        "    \"\"\"\n",
        "    # Log both sets of values\n",
        "    x = list(data.keys())\n",
        "    y = list(data.values())\n",
        "\n",
        "    # Perform the lin regression\n",
        "    m, b, rvalue, _, _ = linregress(x, y)\n",
        "\n",
        "    # Estimate the values of y based on the lin regression results\n",
        "    predicted = [m * iter + b for iter in x]\n",
        "\n",
        "    # Create the line equation\n",
        "    line_eq = f\"y = {m:.2f}x + {b:.2f}\"\n",
        "\n",
        "    # Plot the points\n",
        "    plt.scatter(x, y, label='Mesures')\n",
        "\n",
        "    # Plot the regression line\n",
        "    plt.plot(x, predicted, color=\"red\", label=f'Regression linéaire R²={round(rvalue**2,6)}')\n",
        "\n",
        "    # Add labels and title\n",
        "    plt.xlabel(x_label)\n",
        "    plt.ylabel(y_label)\n",
        "    plt.title(title)\n",
        "\n",
        "    # Add legend\n",
        "    plt.legend(bbox_to_anchor=(0.60, 0), loc='lower left')\n",
        "\n",
        "    # Display the line equation\n",
        "    plt.text(min(x), max(y), line_eq)\n",
        "\n",
        "    # Show the plot\n",
        "    plt.show()\n",
        "\n",
        "\n",
        "def test_de_rapport(\n",
        "    data: dict[int,int],\n",
        "    x_label: str,\n",
        "    y_label: str,\n",
        "    title: str = \"Test de rapport\"\n",
        "):\n",
        "    \"\"\"Takes the data and displays it into the corresponding test graph.\n",
        "    It applies no transformations to the data.\n",
        "\n",
        "    Args:\n",
        "        data (dict[int,int]): A dictionnary mapping the x variable to the y variable\n",
        "    \"\"\"\n",
        "    x = list(data.keys())\n",
        "    y = list(data.values())\n",
        "\n",
        "    plt.plot(x, y, label='Mesures')\n",
        "    plt.scatter(x, y, label='Mesures')\n",
        "\n",
        "    # Add labels and title\n",
        "    plt.xlabel(x_label)\n",
        "    plt.ylabel(y_label)\n",
        "    plt.title(title)\n",
        "    plt.show()\n",
        "\n",
        "\n",
        "def test_de_constantes(\n",
        "    data: dict[int,int],\n",
        "    x_label: str,\n",
        "    y_label: str = \"Temps (ms)\",\n",
        "    title: str = \"Test de constantes\"\n",
        "):\n",
        "    \"\"\"Takes the data and displays it into the corresponding test graph.\n",
        "    It applies no transformations to the data.\n",
        "\n",
        "    Args:\n",
        "        data (dict[int,int]): A dictionnary mapping the x variable to the y variable\n",
        "    \"\"\"\n",
        "    x = list(data.keys())\n",
        "    y = list(data.values())\n",
        "\n",
        "    # Perform linear regression\n",
        "    m, b, rvalue, _, _ = linregress(x, y)\n",
        "\n",
        "    predicted = [m * iter + b for iter in x]\n",
        "\n",
        "    # Create the line equation\n",
        "    line_eq = f\"y = {m:.2E}x + {b:.2E}\"\n",
        "\n",
        "    # Plot the points\n",
        "    plt.scatter(x, y, label='Mesures')\n",
        "\n",
        "    # Plot the regression line\n",
        "    plt.plot(x, predicted, color=\"red\", label=f'Regression linéaire R²={round(rvalue**2,6)}')\n",
        "\n",
        "    # Add labels and title\n",
        "    plt.xlabel(x_label)\n",
        "    plt.ylabel(y_label)\n",
        "    plt.title(title)\n",
        "\n",
        "    # Add legend\n",
        "    plt.legend(bbox_to_anchor=(0.60, 0), loc='lower left')\n",
        "\n",
        "    # Display the line equation\n",
        "    plt.text(min(x), max(y), line_eq)\n",
        "\n",
        "    # Show the plot\n",
        "    plt.show()"
      ]
    },
    {
      "cell_type": "markdown",
      "metadata": {
        "id": "t5F2bmrjLM-4",
        "jupyter": {
          "source_hidden": true
        }
      },
      "source": [
        "## Partie 1 : Algorithme glouton (5 points)"
      ]
    },
    {
      "cell_type": "markdown",
      "metadata": {
        "id": "hi_h3nzTLM-4"
      },
      "source": [
        "<u>**Question 1 :**</u> Implantez un algorithme suivant le patron de conception glouton.\n",
        "\n",
        "Il est normal que le glouton ne retourne pas toujours la solution optimale. Vous pouvez voir l'erreur obtenue et le taux de réponse optimal avec les fonctions de mesure.\n",
        "\n",
        "Tentez de rendre votre implantation la plus performante possible en évitant des calculs inutiles."
      ]
    },
    {
      "cell_type": "code",
      "execution_count": 11,
      "metadata": {
        "id": "pzPED6flLM-4"
      },
      "outputs": [],
      "source": [
        "def glouton_partition(liste):\n",
        "    liste1 = []\n",
        "    liste2 = []\n",
        "    somme1 = 0\n",
        "    somme2 = 0\n",
        "    tailleListe = len(liste) - 1\n",
        "    liste = sorted(liste, reverse=True)\n",
        "\n",
        "    for i in range(tailleListe + 1):\n",
        "        if somme1 < somme2:\n",
        "            liste1.append(liste[i])\n",
        "            somme1 += liste[i]\n",
        "        else:\n",
        "            liste2.append(liste[i])\n",
        "            somme2 += liste[i]\n",
        "    return [liste1, liste2]"
      ]
    },
    {
      "cell_type": "markdown",
      "metadata": {
        "id": "MybKzgKHLM-5"
      },
      "source": [
        "### Analyse asymptotique\n",
        "\n",
        "<u>**Question 2 :**</u> Quelle est la complexité asymptotique théorique de cet algorithme? Expliquez"
      ]
    },
    {
      "cell_type": "markdown",
      "metadata": {
        "id": "X6REaCUjLM-5"
      },
      "source": [
        "Complexité en O(n)."
      ]
    },
    {
      "cell_type": "markdown",
      "metadata": {
        "id": "tRbIPGY9LM-5"
      },
      "source": [
        "### Mesures\n",
        "\n",
        "<u>**Question 3 :**</u> Rapportez dans un tableau les temps d'exécution moyens avec les fonctions auxiliaires `measure_range` et `display_data_as_table`."
      ]
    },
    {
      "cell_type": "code",
      "execution_count": 30,
      "metadata": {
        "id": "xdq5bYGLLM-5"
      },
      "outputs": [
        {
          "name": "stdout",
          "output_type": "stream",
          "text": [
            "Taille               Somme                Temps moyen (ms)     Taux de succès       Erreur absolue moyenne\n",
            "10                   10000000             0.0                  0.2                  28423.0             \n",
            "5010                 10000000             1.0                  0.8                  1.0                 \n",
            "10010                10000000             1.2                  1.0                  0                   \n",
            "15010                10000000             2.0                  1.0                  0                   \n",
            "20010                10000000             3.0                  1.0                  0                   \n",
            "25010                10000000             3.0                  1.0                  0                   \n",
            "30010                10000000             4.0                  1.0                  0                   \n",
            "35010                10000000             4.0                  1.0                  0                   \n",
            "40010                10000000             5.0                  1.0                  0                   \n",
            "45010                10000000             6.0                  1.0                  0                   \n",
            "50010                10000000             6.0                  1.0                  0                   \n",
            "55010                10000000             6.8                  1.0                  0                   \n",
            "60010                10000000             7.6                  1.0                  0                   \n",
            "65010                10000000             8.0                  1.0                  0                   \n",
            "70010                10000000             9.0                  1.0                  0                   \n",
            "75010                10000000             9.0                  1.0                  0                   \n",
            "80010                10000000             9.8                  1.0                  0                   \n",
            "85010                10000000             10.2                 1.0                  0                   \n",
            "90010                10000000             11.0                 1.0                  0                   \n",
            "95010                10000000             11.2                 1.0                  0                   \n"
          ]
        }
      ],
      "source": [
        "list_problems = make_problems(range(10, 100000, 5000),[10000000])\n",
        "list_measure = measure_range(glouton_partition, list_problems)\n",
        "display_data_as_table(list_measure)"
      ]
    },
    {
      "cell_type": "markdown",
      "metadata": {
        "id": "TQJXk75oLM-5"
      },
      "source": [
        "### Validation empirique\n",
        "\n",
        "<u>**Question 4 :**</u> Servez-vous de vos temps d'exécution pour confirmer et/ou préciser l'analyse asymptotique théorique de vos algorithmes avec la méthode hybride de votre choix.\n",
        "\n",
        "La méthode peut varier d'un algorithme à l'autre. Justifiez les choix ici et avec des graphiques."
      ]
    },
    {
      "cell_type": "code",
      "execution_count": null,
      "metadata": {
        "id": "1aUoRKCfLM-5"
      },
      "outputs": [],
      "source": []
    },
    {
      "cell_type": "markdown",
      "metadata": {
        "id": "xX7W21gBLM-5"
      },
      "source": [
        "*Insérer votre réponse ici*"
      ]
    },
    {
      "cell_type": "markdown",
      "metadata": {
        "id": "KjeliIB2LM-5"
      },
      "source": [
        "## Partie 2 : Algorithme de programmation dynamique (5 points)"
      ]
    },
    {
      "cell_type": "markdown",
      "metadata": {
        "id": "P_9CdsqHLM-5"
      },
      "source": [
        "Une solution au problème de partition requiert nécessairement que la somme des valeurs dans chacune des partitions soit la moitié de la somme de l'exemplaire complet. Ainsi, il suffit de trouver une ensemble de valeurs égalisant la moitié de la somme totale pour trouver une réponse valide. Toutes les autres valeurs formeront la seconde partition.\n",
        "\n",
        "Considérez un sous ensemble *X*. Les membres de *X* peuvent être combinés pour obtenir différentes valeurs. En ajoutant une nouvelle variable *y* au sous-ensemble, pour chacune des valeurs atteignables précédemment, il est possible d'atteindre la valeur + *y*.\n",
        "\n",
        "Ainsi, l'algorithme de programmation dynamique répondant à ce problème consiste à explorer les valeurs obtenables à partir d'un sous-ensemble de valeurs en ajoutant progressivement les valeurs de l'exemplaire jusqu'à obtenir un sous-ensemble dont la valeur combinée est la moitié de la valeur de l'instance.\n",
        "\n",
        "<u>**Question 1 :**</u> Implantez l'algorithme de programmation dynamique."
      ]
    },
    {
      "cell_type": "code",
      "execution_count": 41,
      "metadata": {
        "id": "D5I9y3_ULM-6"
      },
      "outputs": [],
      "source": [
        "def dynamique_partition(liste_entiers):\n",
        "    cible = sum(liste_entiers) // 2\n",
        "\n",
        "    # On initialise un tableau que l'on va remplir pour que Tab[i][j] soit True si la valeur j est atteignable avec les i premiers termes.\n",
        "    n = len(liste_entiers)\n",
        "    Tab = [[False] * (cible + 1) for _ in range(n + 1)]\n",
        "    \n",
        "    for i in range(n + 1):\n",
        "        Tab[i][0] = True\n",
        "\n",
        "    # On remplit Tab\n",
        "    for i in range(1, n + 1):\n",
        "        for j in range(1, cible + 1):\n",
        "            if liste_entiers[i - 1] <= j:\n",
        "                Tab[i][j] = Tab[i - 1][j] or Tab[i - 1][j - liste_entiers[i - 1]]\n",
        "            else:\n",
        "                Tab[i][j] = Tab[i - 1][j]\n",
        "\n",
        "    # Si la somme cible n'est pas atteignable, on renvoit deux listes vides\n",
        "    if not Tab[n][cible]:\n",
        "        return [[], []]\n",
        "\n",
        "    # Sinon on reconstitue les deux listes. Pour chaque élément i, on regarde si cible est atteignable avec les i-1 premier termes. Si non, l'élément a été utilisé.\n",
        "    liste_variable_utilise_atteindre_cible = []\n",
        "    liste_reste = liste_entiers[:]\n",
        "\n",
        "    for i in range(n, 0, -1):\n",
        "        if not Tab[i - 1][cible]:\n",
        "            liste_variable_utilise_atteindre_cible.append(liste_entiers[i - 1])\n",
        "            liste_reste.remove(liste_entiers[i - 1])\n",
        "            cible -= liste_entiers[i - 1]\n",
        "\n",
        "    return [liste_variable_utilise_atteindre_cible, liste_reste]"
      ]
    },
    {
      "cell_type": "markdown",
      "metadata": {
        "id": "N4RAuCeOLM-6"
      },
      "source": [
        "### Analyse asymptotique\n",
        "\n",
        "<u>**Question 2 :**</u> Quelle est la complexité asymptotique théorique de cet algorithme? Expliquez"
      ]
    },
    {
      "cell_type": "markdown",
      "metadata": {
        "id": "xTtD-njhLM-6"
      },
      "source": [
        "*Insérer votre réponse ici*"
      ]
    },
    {
      "cell_type": "markdown",
      "metadata": {
        "id": "cBnAgIu3LM-6"
      },
      "source": [
        "### Mesures\n",
        "\n",
        "<u>**Question 3 :**</u> Rapportez dans un tableau les temps d'exécution moyens avec les fonctions auxiliaires `measure_range` et `display_data_as_table` **C'est attendu que cet algorithme soit beaucoup plus lent que le glouton. Vous n'avez pas besoin de mesurer sur des exemplaires aussi gros.**"
      ]
    },
    {
      "cell_type": "code",
      "execution_count": null,
      "metadata": {},
      "outputs": [],
      "source": []
    },
    {
      "cell_type": "markdown",
      "metadata": {
        "id": "j77dQCVELM-6"
      },
      "source": [
        "### Validation empirique\n",
        "\n",
        "<u>**Question 4 :**</u> Servez-vous de vos temps d'exécution pour confirmer et/ou préciser l'analyse asymptotique théorique de vos algorithmes avec la méthode hybride de votre choix.\n",
        "\n",
        "La méthode peut varier d'un algorithme à l'autre. Justifiez les choix ici et avec des graphiques."
      ]
    },
    {
      "cell_type": "code",
      "execution_count": null,
      "metadata": {
        "id": "fNSu8gnnLM-6"
      },
      "outputs": [],
      "source": []
    },
    {
      "cell_type": "markdown",
      "metadata": {
        "id": "SfW-EtZ7LM-6"
      },
      "source": [
        "*Insérer votre réponse ici*"
      ]
    },
    {
      "cell_type": "markdown",
      "metadata": {
        "id": "K9JRijBiLM-6"
      },
      "source": [
        "## Partie 3 : Algorithme d'amélioration locale (5 points)"
      ]
    },
    {
      "cell_type": "markdown",
      "metadata": {
        "id": "EUOxko0-LM-6"
      },
      "source": [
        "Cet algorithme explore le voisinage de solutions non optimales. En partant d’une solution, celle-ci est améliorée en modifiant une ou plusieurs de ses assignations. Vous pouvez prendre\n",
        "comme critère d’arrêt un nombre maximum d’itérations et comme fonction de coût `get_absolute_error`.\n",
        "\n",
        "<u>**Question 1 :**</u> Implantez un algorithme suivant le patron de conception d'amélioration locale."
      ]
    },
    {
      "cell_type": "code",
      "execution_count": 47,
      "metadata": {
        "id": "RNPdnQOFLM-7"
      },
      "outputs": [],
      "source": [
        "def amelioration_locale_partition(liste_entiers, max_iterations=100000):\n",
        "    S1 = random.sample(liste_entiers, len(liste_entiers) // 2)\n",
        "    S2 = [x for x in liste_entiers if x not in S1]\n",
        "    somme_totale = sum(liste_entiers)\n",
        "    \n",
        "    meilleur_cout = get_absolute_error([S1, S2])\n",
        "    \n",
        "    for iteration in range(max_iterations):\n",
        "        if S1 and S2:  \n",
        "            elem_S1 = random.choice(S1)\n",
        "            elem_S2 = random.choice(S2)\n",
        "            S1.remove(elem_S1)\n",
        "            S2.remove(elem_S2)\n",
        "            S1.append(elem_S2)\n",
        "            S2.append(elem_S1)\n",
        "            \n",
        "            cout_actuel = get_absolute_error([S1, S2])\n",
        "            \n",
        "            if cout_actuel < meilleur_cout:\n",
        "                meilleur_cout = cout_actuel\n",
        "            else:\n",
        "                S1.remove(elem_S2)\n",
        "                S2.remove(elem_S1)\n",
        "                S1.append(elem_S1)\n",
        "                S2.append(elem_S2)\n",
        "\n",
        "            if meilleur_cout == 0:\n",
        "                break\n",
        "    \n",
        "    return S1, S2, meilleur_cout"
      ]
    },
    {
      "cell_type": "markdown",
      "metadata": {
        "id": "qeW0wQKxLM-7"
      },
      "source": [
        "### Analyse asymptotique\n",
        "\n",
        "<u>**Question 2 :**</u> Quelle est la complexité asymptotique théorique de cet algorithme? Expliquez"
      ]
    },
    {
      "cell_type": "markdown",
      "metadata": {
        "id": "H9MCpO4ALM_A"
      },
      "source": [
        "*Insérer votre réponse ici*"
      ]
    },
    {
      "cell_type": "markdown",
      "metadata": {
        "id": "_d1k1kOhLM_A"
      },
      "source": [
        "### Mesures\n",
        "\n",
        "<u>**Question 3 :**</u> Rapportez dans un tableau les temps d'exécution moyens avec les fonctions auxiliaires `measure_range` et `display_data_as_table`. Vous pouvez comparer vos résultats à ceux sans l'amélioration locale pour voir l'amélioration."
      ]
    },
    {
      "cell_type": "code",
      "execution_count": null,
      "metadata": {
        "id": "1L0mX8nOLM_A"
      },
      "outputs": [],
      "source": []
    },
    {
      "cell_type": "markdown",
      "metadata": {
        "id": "VLDxYColLM_A"
      },
      "source": [
        "### Validation empirique\n",
        "\n",
        "<u>**Question 4 :**</u> Servez-vous de vos temps d'exécution pour confirmer et/ou préciser l'analyse asymptotique théorique de vos algorithmes avec la méthode hybride de votre choix.\n",
        "\n",
        "La méthode peut varier d'un algorithme à l'autre. Justifiez les choix ici et avec des graphiques."
      ]
    },
    {
      "cell_type": "code",
      "execution_count": null,
      "metadata": {
        "id": "rmb1FJ1mLM_C"
      },
      "outputs": [],
      "source": []
    },
    {
      "cell_type": "markdown",
      "metadata": {
        "id": "qj1VgJanLM_C"
      },
      "source": [
        "*Insérer votre réponse ici*"
      ]
    },
    {
      "cell_type": "markdown",
      "metadata": {
        "id": "JyCCHpzeLM_C"
      },
      "source": [
        "# Évaluation de la consommation énergétique (1 point)\n",
        "\n",
        "Dans le cadre de ce TP, nous voulons vous sensibiliser à la consommation énergétique de vos algorithmes. Pour ce faire, nous vous fournissons une librairie que vous pouvez utiliser pour évaluer l'énergie nécessaire à la complétion de votre algorithme (https://mlco2.github.io/codecarbon/). Appelez chacun de vos algorithmes ci-bas avec les mêmes exemplaires et comparez le résultat obtenu par chacun."
      ]
    },
    {
      "cell_type": "code",
      "execution_count": 49,
      "metadata": {
        "id": "B5VBVWSo6iEV"
      },
      "outputs": [],
      "source": [
        "#Commande pour installer la librairie\n",
        "#!pip install codecarbon"
      ]
    },
    {
      "cell_type": "code",
      "execution_count": null,
      "metadata": {},
      "outputs": [],
      "source": [
        "from codecarbon import EmissionsTracker\n",
        "exemplaire = simple(100, 100000)\n",
        "try:\n",
        "    tracker = EmissionsTracker(measure_power_secs=5, tracking_mode=\"process\")\n",
        "\n",
        "    tracker.start_task(\"glouton\")\n",
        "    glouton_partition(exemplaire)\n",
        "    tracker.stop_task()\n",
        "\n",
        "    tracker.start_task(\"dynamic\")\n",
        "    dynamique_partition(exemplaire)\n",
        "    tracker.stop_task()\n",
        "\n",
        "    tracker.start_task(\"recherche\")\n",
        "    amelioration_locale_partition(exemplaire)\n",
        "    tracker.stop_task()\n",
        "finally:\n",
        "    _ = tracker.stop()"
      ]
    },
    {
      "cell_type": "markdown",
      "metadata": {
        "id": "Z54K_ptCLM_C"
      },
      "source": [
        "Les résultats de l'exécution du code ci-haut devraient apparaître dans un fichier csv. Commentez les résultats obtenus. Vous pouvez trouver une explication de la sortie dans la documentation qui est présente au lien ci-haut."
      ]
    },
    {
      "cell_type": "markdown",
      "metadata": {
        "id": "AX73_JpJLM_C"
      },
      "source": [
        "*Insérer votre réponse ici*"
      ]
    },
    {
      "cell_type": "markdown",
      "metadata": {
        "id": "sAMkZNCeLM_D"
      },
      "source": [
        "# Conclusion et synthèse (2 points)\n",
        "\n",
        "Résumez succinctement vos résultats et indiquez sous quelles conditions vous utiliseriez chacun des algorithmes."
      ]
    },
    {
      "cell_type": "markdown",
      "metadata": {
        "id": "F_7JC_GTLM_D"
      },
      "source": [
        "*Insérer votre réponse ici*"
      ]
    },
    {
      "cell_type": "markdown",
      "metadata": {
        "id": "70GBZejRLM_D"
      },
      "source": [
        "## Autres critères (2 pts)\n",
        " Qualité du code / 1 pt\n",
        "\n",
        "Présentation générale / 1 pt\n",
        "\n",
        "- Concision\n",
        "- Qualité du français\n",
        "\n",
        "Pénalité retard\n",
        "- -1 pt / journée de retard, arrondi vers le haut. Les TPs ne sont plus acceptés après 3 jours."
      ]
    }
  ],
  "metadata": {
    "colab": {
      "provenance": []
    },
    "kernelspec": {
      "display_name": "Python 3",
      "language": "python",
      "name": "python3"
    },
    "language_info": {
      "codemirror_mode": {
        "name": "ipython",
        "version": 3
      },
      "file_extension": ".py",
      "mimetype": "text/x-python",
      "name": "python",
      "nbconvert_exporter": "python",
      "pygments_lexer": "ipython3",
      "version": "3.9.19"
    }
  },
  "nbformat": 4,
  "nbformat_minor": 0
}
